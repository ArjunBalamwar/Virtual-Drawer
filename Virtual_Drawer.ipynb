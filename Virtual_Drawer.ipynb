{
 "cells": [
  {
   "cell_type": "code",
   "execution_count": 1,
   "metadata": {},
   "outputs": [],
   "source": [
    "import cv2\n",
    "import numpy as np"
   ]
  },
  {
   "cell_type": "code",
   "execution_count": 2,
   "metadata": {},
   "outputs": [],
   "source": [
    "# def empty(a):\n",
    "#     pass\n",
    "\n",
    "# cv2.namedWindow(\"TrackBars\")\n",
    "# cv2.resizeWindow(\"TrackBars\", 640, 240)\n",
    "# cv2.createTrackbar(\"Hue Min\", \"TrackBars\", 127, 179,empty)\n",
    "# cv2.createTrackbar(\"Hue Max\", \"TrackBars\", 179, 179,empty)\n",
    "# cv2.createTrackbar(\"Sat Min\", \"TrackBars\", 65, 255,empty)\n",
    "# cv2.createTrackbar(\"Sat Max\", \"TrackBars\", 255, 255,empty)\n",
    "# cv2.createTrackbar(\"Val Min\", \"TrackBars\", 88, 255,empty)\n",
    "# cv2.createTrackbar(\"Val Max\", \"TrackBars\", 255, 255,empty)"
   ]
  },
  {
   "cell_type": "code",
   "execution_count": 3,
   "metadata": {},
   "outputs": [
    {
     "data": {
      "text/plain": [
       "True"
      ]
     },
     "execution_count": 3,
     "metadata": {},
     "output_type": "execute_result"
    }
   ],
   "source": [
    "cap = cv2.VideoCapture(0)\n",
    "cap.set(3, 640)\n",
    "cap.set(4, 480)\n",
    "cap.set(10, 200)"
   ]
  },
  {
   "cell_type": "code",
   "execution_count": 4,
   "metadata": {},
   "outputs": [],
   "source": [
    "#pink, orange, yellow, blue\n",
    "myColors = [[127, 65, 88, 179, 255, 255],\n",
    "            [0, 92, 38, 12, 151, 255],\n",
    "            #[0, 75, 145, 179, 121, 255],\n",
    "            [80, 36, 0, 117, 255, 255]\n",
    "           ]\n",
    "myColorValues = [[153, 51, 255],\n",
    "                 [0, 51, 255],\n",
    "                 #[0, 230, 230],\n",
    "                 [255, 198, 26]]"
   ]
  },
  {
   "cell_type": "code",
   "execution_count": 5,
   "metadata": {},
   "outputs": [],
   "source": [
    "def findColour(img, myColors, myColorValues):\n",
    "    img_hsv = cv2.cvtColor(img, cv2.COLOR_BGR2HSV)\n",
    "    count = 0\n",
    "    newPoints = []\n",
    "    for color in myColors:\n",
    "        lower = np.array(color[0:3])\n",
    "        upper = np.array(color[3:6])\n",
    "        mask = cv2.inRange(img_hsv, lower, upper)\n",
    "        x, y = getContours(mask)\n",
    "        cv2.circle(imgResult, (int(x),int(y)), 10, myColorValues[count], cv2.FILLED)\n",
    "        if x!=0 and y!=0:\n",
    "            newPoints.append([x, y, count])\n",
    "        count+=1\n",
    "#         cv2.imshow(str(color[1]), mask)\n",
    "    return newPoints"
   ]
  },
  {
   "cell_type": "code",
   "execution_count": 6,
   "metadata": {},
   "outputs": [],
   "source": [
    "def getContours(img):\n",
    "    contours, hierarchy = cv2.findContours(img, cv2.RETR_EXTERNAL, cv2.CHAIN_APPROX_NONE)\n",
    "    x,y,w,h = 0, 0, 0, 0\n",
    "    for cnt in contours:\n",
    "        area = cv2.contourArea(cnt)\n",
    "        if area>500:\n",
    "            #cv2.drawContours(imgResult, cnt, -1, (255, 0, 0), 3)\n",
    "            peri = cv2.arcLength(cnt, True)\n",
    "            approx = cv2.approxPolyDP(cnt, 0.02*peri, True)\n",
    "            x, y, w, h = cv2.boundingRect(approx)\n",
    "    return x+w/2, y"
   ]
  },
  {
   "cell_type": "code",
   "execution_count": 7,
   "metadata": {},
   "outputs": [],
   "source": [
    "def draw(myPoints, myColorValues):\n",
    "    for point in myPoints:\n",
    "        cv2.circle(imgResult, (int(point[0]), int(point[1])), 10, myColorValues[point[2]], cv2.FILLED)"
   ]
  },
  {
   "cell_type": "code",
   "execution_count": 8,
   "metadata": {},
   "outputs": [],
   "source": [
    "myPoints=[]\n",
    "while True:\n",
    "    success, img = cap.read()\n",
    "    img = cv2.flip(img,1)\n",
    "    imgResult = img.copy()\n",
    "    newPoints = findColour(img, myColors, myColorValues)\n",
    "    \n",
    "    if len(newPoints)!=0:\n",
    "        for newP in newPoints:\n",
    "            myPoints.append(newP)\n",
    "    if len(myPoints)!=0:\n",
    "        draw(myPoints, myColorValues)\n",
    "#     img_hsv = cv2.cvtColor(img, cv2.COLOR_BGR2HSV)\n",
    "#     h_min = cv2.getTrackbarPos(\"Hue Min\", \"TrackBars\")\n",
    "#     h_max = cv2.getTrackbarPos(\"Hue Max\", \"TrackBars\")\n",
    "#     s_min = cv2.getTrackbarPos(\"Sat Min\", \"TrackBars\")\n",
    "#     s_max = cv2.getTrackbarPos(\"Sat Max\", \"TrackBars\")\n",
    "#     v_min = cv2.getTrackbarPos(\"Val Min\", \"TrackBars\")\n",
    "#     v_max = cv2.getTrackbarPos(\"Val Max\", \"TrackBars\")\n",
    "#     lower = np.array([h_min, s_min, v_min])\n",
    "#     upper = np.array([h_max, s_max, v_max])\n",
    "#     mask = cv2.inRange(img_hsv, lower, upper)\n",
    "#     img_results = cv2.bitwise_and(img, img, mask=mask)\n",
    "    \n",
    "    cv2.imshow(\"Image\", imgResult)\n",
    "#     cv2.imshow(\"Image_hsv\", img_hsv)\n",
    "#     cv2.imshow(\"Mask\", mask)\n",
    "#     cv2.imshow(\"img_results\", img_results)\n",
    "    if cv2.waitKey(1) & 0xFF == ord('q'):\n",
    "        break\n",
    "cap.release()\n",
    "cv2.destroyAllWindows()"
   ]
  },
  {
   "cell_type": "code",
   "execution_count": null,
   "metadata": {},
   "outputs": [],
   "source": []
  }
 ],
 "metadata": {
  "kernelspec": {
   "display_name": "Python 3",
   "language": "python",
   "name": "python3"
  },
  "language_info": {
   "codemirror_mode": {
    "name": "ipython",
    "version": 3
   },
   "file_extension": ".py",
   "mimetype": "text/x-python",
   "name": "python",
   "nbconvert_exporter": "python",
   "pygments_lexer": "ipython3",
   "version": "3.8.3"
  }
 },
 "nbformat": 4,
 "nbformat_minor": 4
}
